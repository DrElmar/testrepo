{
  "metadata": {
    "kernelspec": {
      "name": "python",
      "display_name": "Python (Pyodide)",
      "language": "python"
    },
    "language_info": {
      "codemirror_mode": {
        "name": "python",
        "version": 3
      },
      "file_extension": ".py",
      "mimetype": "text/x-python",
      "name": "python",
      "nbconvert_exporter": "python",
      "pygments_lexer": "ipython3",
      "version": "3.8"
    }
  },
  "nbformat_minor": 5,
  "nbformat": 4,
  "cells": [
    {
      "id": "3106f5d5-1b6a-4eef-bc15-54c13fa89660",
      "cell_type": "markdown",
      "source": "# Data Science Tools and Ecosystem",
      "metadata": {}
    },
    {
      "id": "c5005300-bc53-459b-8b59-c1f9c0854147",
      "cell_type": "markdown",
      "source": "## Author\nElmar",
      "metadata": {}
    },
    {
      "id": "ce71dd22-50a4-4ea2-a339-60d320521ab2",
      "cell_type": "markdown",
      "source": "In this notebook, Data Science Tools and Ecosystem are summarized.",
      "metadata": {}
    },
    {
      "id": "99540c81-890a-4e18-b144-1cf24cb8cdca",
      "cell_type": "markdown",
      "source": "**Objectives:**\n- Jupyter\n- Python\n- JupyterLite",
      "metadata": {}
    },
    {
      "id": "9cf288c6-cc14-48a4-a244-10dd9ae934ad",
      "cell_type": "markdown",
      "source": "Some of the popular languages that Data Scientists use are:\n1. Python\n2. R\n3. SQL",
      "metadata": {}
    },
    {
      "id": "f1daf961-427e-42bd-b7cd-5a91ff68133c",
      "cell_type": "markdown",
      "source": "Some of the commonly used libraries used by Data Scientists include:\n1. pandas\n2. matplotlib\n3. seaborn",
      "metadata": {}
    },
    {
      "id": "84aba56d-1eb7-4d8a-a7db-14a7733e4baa",
      "cell_type": "code",
      "source": "|Data Science Tools|\n--------------------\n|Jupyter Notebook  |\n|Jupyter Lab       |\n|Spyder            |",
      "metadata": {
        "trusted": true
      },
      "outputs": [],
      "execution_count": null
    },
    {
      "id": "abc54f59-bd24-4650-87f7-eb6512ce6246",
      "cell_type": "code",
      "source": "### Below are a few examples of evaluating arithmetic expressions in Python",
      "metadata": {
        "trusted": true
      },
      "outputs": [],
      "execution_count": null
    },
    {
      "id": "f12ff068-e5e3-4199-8607-0d89d1a5f8fb",
      "cell_type": "code",
      "source": "(3*4)+5\n# This a simple arithmetic expression to mutiply then add integers",
      "metadata": {
        "trusted": true
      },
      "outputs": [
        {
          "execution_count": 1,
          "output_type": "execute_result",
          "data": {
            "text/plain": "17"
          },
          "metadata": {}
        }
      ],
      "execution_count": 1
    },
    {
      "id": "c9816605-4911-4797-8711-08bb6f3f04a0",
      "cell_type": "code",
      "source": "# This will convert 200 minutes to hours by diving by 60\n200/60",
      "metadata": {
        "trusted": true
      },
      "outputs": [
        {
          "execution_count": 2,
          "output_type": "execute_result",
          "data": {
            "text/plain": "3.3333333333333335"
          },
          "metadata": {}
        }
      ],
      "execution_count": 2
    }
  ]
}